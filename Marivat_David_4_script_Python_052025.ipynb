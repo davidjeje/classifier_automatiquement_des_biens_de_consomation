{
 "cells": [
  {
   "cell_type": "code",
   "execution_count": 1,
   "id": "8d5cd8dc-442e-4183-887c-f081b26e5dc3",
   "metadata": {},
   "outputs": [],
   "source": [
    "import requests\n",
    "import csv"
   ]
  },
  {
   "cell_type": "code",
   "execution_count": 2,
   "id": "627b00a9-7492-4e03-8dcd-a835e94ff9d0",
   "metadata": {},
   "outputs": [
    {
     "name": "stdout",
     "output_type": "stream",
     "text": [
      "✅ Fichier CSV 'produits_champagne.csv' créé avec succès.\n"
     ]
    }
   ],
   "source": [
    "# Requête vers l'API OpenFoodFacts avec le mot-clé \"champagne\"\n",
    "url = \"https://world.openfoodfacts.org/cgi/search.pl\"\n",
    "params = {\n",
    "    'search_terms': 'champagne',\n",
    "    'search_simple': 1,\n",
    "    'action': 'process',\n",
    "    'json': 1,\n",
    "    'page_size': 10  # Limite à 10 produits\n",
    "}\n",
    "\n",
    "response = requests.get(url, params=params)\n",
    "data = response.json()\n",
    "\n",
    "# Liste des produits récupérés\n",
    "products = data.get('products', [])\n",
    "\n",
    "# Fichier de sortie CSV\n",
    "output_file = \"produits_champagne.csv\"\n",
    "\n",
    "# Colonnes demandées\n",
    "fields = ['foodId', 'label', 'category', 'foodContentsLabel', 'image']\n",
    "\n",
    "# Ouverture du fichier en écriture\n",
    "with open(output_file, mode='w', newline='', encoding='utf-8') as f:\n",
    "    writer = csv.DictWriter(f, fieldnames=fields)\n",
    "    writer.writeheader()\n",
    "\n",
    "    for product in products:\n",
    "        writer.writerow({\n",
    "            'foodId': product.get('id', ''),\n",
    "            'label': product.get('product_name', ''),\n",
    "            'category': product.get('categories', ''),\n",
    "            'foodContentsLabel': product.get('ingredients_text', ''),\n",
    "            'image': product.get('image_url', '')\n",
    "        })\n",
    "\n",
    "print(f\"✅ Fichier CSV '{output_file}' créé avec succès.\")"
   ]
  },
  {
   "cell_type": "code",
   "execution_count": null,
   "id": "fed44bef-6cb6-48dd-b5ab-3b0c4b3d22d4",
   "metadata": {},
   "outputs": [],
   "source": []
  }
 ],
 "metadata": {
  "kernelspec": {
   "display_name": "Classifier automatiquement des biens",
   "language": "python",
   "name": "python3"
  },
  "language_info": {
   "codemirror_mode": {
    "name": "ipython",
    "version": 3
   },
   "file_extension": ".py",
   "mimetype": "text/x-python",
   "name": "python",
   "nbconvert_exporter": "python",
   "pygments_lexer": "ipython3",
   "version": "3.10.0"
  }
 },
 "nbformat": 4,
 "nbformat_minor": 5
}
